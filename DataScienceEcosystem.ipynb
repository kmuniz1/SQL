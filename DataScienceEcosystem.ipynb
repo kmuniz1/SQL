{
 "cells": [
  {
   "cell_type": "markdown",
   "id": "84690f7c-fbc9-4799-85f8-eede9108cae6",
   "metadata": {},
   "source": [
    "# Data Science Tools and Ecosystem"
   ]
  },
  {
   "cell_type": "markdown",
   "id": "b4e6275c-6a4e-4442-a396-2572cf340878",
   "metadata": {},
   "source": [
    "In this notebook, Data Science Tools and Ecosystem are summarized."
   ]
  },
  {
   "cell_type": "markdown",
   "id": "063e2811-45e0-40e4-bdff-1b1ab131d5f8",
   "metadata": {},
   "source": [
    "## **Objectives:**\n",
    "- list of popular languages for Data Science\n",
    "- list of popular libraries for Data Science\n",
    "- Table of popular Tools foor Data Science \n",
    "- simple arithmetic expressions"
   ]
  },
  {
   "cell_type": "markdown",
   "id": "23ac7e53-1f8e-429c-94e5-aca65878f465",
   "metadata": {},
   "source": [
    "Some of the popular languages that Data Scientists use are:\n",
    "1. Python\n",
    "2. R\n",
    "3. SQL"
   ]
  },
  {
   "cell_type": "markdown",
   "id": "f07a951c-5e62-4dfb-8ce1-4fcc48c306ad",
   "metadata": {},
   "source": [
    "Some of the commonly used libraries used by Data Scientists include:\n",
    "1. NumPy\n",
    "2. Pandas\n",
    "3. Matplotlib"
   ]
  },
  {
   "cell_type": "markdown",
   "id": "75dff11b-0731-4436-b263-c5c7190a98a3",
   "metadata": {},
   "source": [
    "| Data Science Tools |\n",
    "| ---------------- |\n",
    "| Weka |\n",
    "|Pandas | \n",
    "| Scrapy |"
   ]
  },
  {
   "cell_type": "markdown",
   "id": "b8ceb210-7ee4-428c-951b-c46ad77ad0c4",
   "metadata": {},
   "source": [
    "### Below are a few examples of evaluating arithmetic expressions in Python."
   ]
  },
  {
   "cell_type": "code",
   "execution_count": 7,
   "id": "22127396-8522-4607-977c-6db84bb40858",
   "metadata": {},
   "outputs": [
    {
     "data": {
      "text/plain": [
       "17"
      ]
     },
     "execution_count": 7,
     "metadata": {},
     "output_type": "execute_result"
    }
   ],
   "source": [
    "# This a simple arithmetic expression to mutiply then add integers\n",
    "(3*4)+5"
   ]
  },
  {
   "cell_type": "code",
   "execution_count": 8,
   "id": "cfd08003-e16f-4beb-82ac-9b53f4f59ade",
   "metadata": {},
   "outputs": [
    {
     "data": {
      "text/plain": [
       "3.3333333333333335"
      ]
     },
     "execution_count": 8,
     "metadata": {},
     "output_type": "execute_result"
    }
   ],
   "source": [
    "# This will convert 200 minutes to hours by diving by 60\n",
    "200/60"
   ]
  },
  {
   "cell_type": "markdown",
   "id": "3752eef6-e3ad-4521-a82c-0d6685146457",
   "metadata": {},
   "source": [
    "## Author \n",
    "Kevin Muniz"
   ]
  }
 ],
 "metadata": {
  "kernelspec": {
   "display_name": "Python 3 (ipykernel)",
   "language": "python",
   "name": "python3"
  },
  "language_info": {
   "codemirror_mode": {
    "name": "ipython",
    "version": 3
   },
   "file_extension": ".py",
   "mimetype": "text/x-python",
   "name": "python",
   "nbconvert_exporter": "python",
   "pygments_lexer": "ipython3",
   "version": "3.11.9"
  }
 },
 "nbformat": 4,
 "nbformat_minor": 5
}
